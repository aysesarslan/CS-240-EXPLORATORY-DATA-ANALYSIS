{
 "cells": [
  {
   "cell_type": "markdown",
   "metadata": {},
   "source": [
    "# CS 240 EXPLORATORY DATA ANALYSIS Spring 2019 Assignment 3"
   ]
  },
  {
   "cell_type": "markdown",
   "metadata": {},
   "source": [
    "\n"
   ]
  },
  {
   "cell_type": "code",
   "execution_count": 2,
   "metadata": {},
   "outputs": [],
   "source": [
    "#common imports\n",
    "import numpy as np\n",
    "from datascience import *\n",
    "\n",
    "#To plot figures\n",
    "import matplotlib\n",
    "%matplotlib inline\n",
    "import matplotlib.pyplot as plt\n",
    "import matplotlib.pyplot as plots\n",
    "plt.style.use('fivethirtyeight')\n",
    "\n",
    "# Ignore useless warnings (see SciPy issue #5998)\n",
    "import warnings\n",
    "warnings.filterwarnings(action=\"ignore\", message=\"^internal gelsd\")\n",
    "warnings.simplefilter('ignore')"
   ]
  },
  {
   "cell_type": "markdown",
   "metadata": {},
   "source": [
    "## Testing Hypotheses"
   ]
  },
  {
   "cell_type": "markdown",
   "metadata": {},
   "source": [
    "## 1. Catching Cheaters"
   ]
  },
  {
   "cell_type": "markdown",
   "metadata": {},
   "source": [
    "Suppose you are a casino owner, and your casino runs a very simple game of chance.  The dealer flips a coin.  The customer wins $\\$$9 from the casino if it comes up heads and loses $\\$$10 if it comes up tails."
   ]
  },
  {
   "cell_type": "markdown",
   "metadata": {},
   "source": [
    "__________"
   ]
  },
  {
   "cell_type": "markdown",
   "metadata": {},
   "source": [
    "**Question 1.** Assuming no one is cheating and the coin is fair, if a customer plays twice, what is the chance they make money? Do not directly write the probability of making money. Simulate it (playing twice) 10,000 times and calculate the probability based on the simulation result."
   ]
  },
  {
   "cell_type": "code",
   "execution_count": 4,
   "metadata": {},
   "outputs": [
    {
     "data": {
      "text/plain": [
       "0.2476"
      ]
     },
     "execution_count": 4,
     "metadata": {},
     "output_type": "execute_result"
    }
   ],
   "source": [
    "coin = make_array('HH','HT','TH','TT') #playing twice means 4 outcomes\n",
    "heads = make_array()\n",
    "num_repetitions = 10000\n",
    "for i in np.arange(num_repetitions):\n",
    "    outcomes = np.random.choice(coin, 1)\n",
    "    num_heads = np.count_nonzero(outcomes == 'HH') #making money: 'HH'\n",
    "    heads = np.append(heads,num_heads)\n",
    "p_winning_after_two_flips = sum(heads)/num_repetitions\n",
    "p_winning_after_two_flips"
   ]
  },
  {
   "cell_type": "markdown",
   "metadata": {},
   "source": [
    "______________"
   ]
  },
  {
   "cell_type": "markdown",
   "metadata": {},
   "source": [
    "A certain customer plays the game 20 times and wins 13 of the bets.  You suspect that the customer is cheating!  That is, **you think that their chance of winning is higher than the normal chance of winning.**\n",
    "\n",
    "You decide to test your hunch using the outcomes of the 20 games you observed.\n"
   ]
  },
  {
   "cell_type": "markdown",
   "metadata": {},
   "source": [
    "**Question 2.** Define the null hypothesis and alternative hypothesis for this investigation. "
   ]
  },
  {
   "cell_type": "markdown",
   "metadata": {},
   "source": [
    "**Null hypothesis:** 13 wins of 20 times is due to chance the customer was not cheating.\n",
    "\n",
    "**Alternative hypothesis:** Their chance of winning is higher than the normal chance of winning. 13 wins of 20 times is not due to chance the customer was cheating. "
   ]
  },
  {
   "cell_type": "markdown",
   "metadata": {},
   "source": [
    "_________"
   ]
  },
  {
   "cell_type": "markdown",
   "metadata": {},
   "source": [
    "<div class=\"hide\">\\pagebreak</div>\n",
    "Suppose you decide to use the number of wins as your test statistic.\n",
    "\n",
    "**Question 3.** Write a function called `simulate` that generates exactly one simulation of your test statistic under the Null Hypothesis.  It should take no arguments.  It should return the number of wins in 20 games simulated under the assumption of Null Hypothesis.\n",
    "\n",
    "*Hint*: You may find the textbook [section](https://www.inferentialthinking.com/chapters/11/1/Assessing_Models#predicting-the-statistic-under-the-model) on the `sample_proportions` function to be useful."
   ]
  },
  {
   "cell_type": "code",
   "execution_count": 5,
   "metadata": {},
   "outputs": [
    {
     "data": {
      "text/plain": [
       "4.0"
      ]
     },
     "execution_count": 5,
     "metadata": {},
     "output_type": "execute_result"
    }
   ],
   "source": [
    "def simulate():\n",
    "    coin_outcomes = make_array(0.25,0.75) #probability of getting HH is 0.25, not getting is 0.75\n",
    "    return (20*sample_proportions(20,coin_outcomes).item(0)) #the actual percentage of the sample that a customer is winning\n",
    "simulate()"
   ]
  },
  {
   "cell_type": "markdown",
   "metadata": {},
   "source": [
    "____________"
   ]
  },
  {
   "cell_type": "markdown",
   "metadata": {},
   "source": [
    "**Question 4.** Using 10,000 trials, generate simulated values of the number of wins in 20 games. Assign `test_statistics_under_null` to an array that stores the result of each of these trials.\n",
    "\n",
    "*Hint*: Feel free to use the function you defined in Question 3."
   ]
  },
  {
   "cell_type": "code",
   "execution_count": 6,
   "metadata": {},
   "outputs": [
    {
     "data": {
      "text/plain": [
       "array([7., 8., 4., ..., 3., 2., 1.])"
      ]
     },
     "execution_count": 6,
     "metadata": {},
     "output_type": "execute_result"
    }
   ],
   "source": [
    "repetitions = 10000\n",
    "test_statistics_under_null = make_array()\n",
    "for i in np.arange(repetitions): #Using 10,000 trials we are generating simulated values of the number of wins in 20 games\n",
    "    test_statistics_under_null = np.append(test_statistics_under_null,simulate())\n",
    "test_statistics_under_null"
   ]
  },
  {
   "cell_type": "markdown",
   "metadata": {},
   "source": [
    "_________________________"
   ]
  },
  {
   "cell_type": "markdown",
   "metadata": {},
   "source": [
    "**Question 5.** Using the results from Question 4, generate a histogram of the empirical distribution of the number of wins in 20 games."
   ]
  },
  {
   "cell_type": "code",
   "execution_count": 7,
   "metadata": {},
   "outputs": [
    {
     "data": {
      "image/png": "[encoded data removed]",
      "text/plain": [
       "<Figure size 432x288 with 1 Axes>"
      ]
     },
     "metadata": {},
     "output_type": "display_data"
    }
   ],
   "source": [
    "observed_value = 13 #A certain customer plays the game 20 times and wins 13 of the bets.\n",
    "Table().with_column('Empirical Distribution of the number of wins in 20 games',test_statistics_under_null).hist()\n",
    "plots.scatter(observed_value,0,color = 'red',s = 30); "
   ]
  },
  {
   "cell_type": "markdown",
   "metadata": {},
   "source": [
    "________________"
   ]
  },
  {
   "cell_type": "markdown",
   "metadata": {},
   "source": [
    "<div class=\"hide\">\\pagebreak</div>\n",
    "\n",
    "**Question 6.** Compute an empirical P-value for this test.\n",
    "\n",
    "*Hint:* Which values of our test statistic are in the direction of the alternative hypothesis?"
   ]
  },
  {
   "cell_type": "code",
   "execution_count": 8,
   "metadata": {},
   "outputs": [
    {
     "data": {
      "text/plain": [
       "0.0001"
      ]
     },
     "execution_count": 8,
     "metadata": {},
     "output_type": "execute_result"
    }
   ],
   "source": [
    "observed_value = 13 #A certain customer plays the game 20 times and wins 13 of the bets.\n",
    "p_value = np.sum(test_statistics_under_null >= observed_value)/repetitions\n",
    "p_value #empirical P-value for this test so we can conlude whhic hypothesis it is."
   ]
  },
  {
   "cell_type": "markdown",
   "metadata": {},
   "source": [
    "________________"
   ]
  },
  {
   "cell_type": "markdown",
   "metadata": {},
   "source": [
    "**Question 7.** Suppose you use a P-value cutoff of 1%. What do you conclude from the hypothesis test? Why?"
   ]
  },
  {
   "cell_type": "markdown",
   "metadata": {},
   "source": [
    "P-value is very smaller than the P-value cutoff of 1% which means we reject the null hypothesis and accept alternative, we can say that the customer was cheating as his chance of winning 13 is not possible out of 20 games."
   ]
  },
  {
   "cell_type": "markdown",
   "metadata": {},
   "source": [
    "__________________________"
   ]
  },
  {
   "cell_type": "markdown",
   "metadata": {},
   "source": [
    "**Practice Question.** Suppose you run this test for 400 different customers after observing each customer play 20 games.  When you reject the null hypothesis for a customer, you accuse that customer of cheating.  If no customers were actually cheating, can we compute how many we will incorrectly accuse of cheating? If so, what is the number? Explain your answer. Assume a 1% P-value cutoff."
   ]
  },
  {
   "cell_type": "markdown",
   "metadata": {},
   "source": [
    "____________"
   ]
  },
  {
   "cell_type": "markdown",
   "metadata": {},
   "source": [
    "## Confidence Intervals"
   ]
  },
  {
   "cell_type": "markdown",
   "metadata": {},
   "source": [
    "## 2. Plot the Vote"
   ]
  },
  {
   "cell_type": "markdown",
   "metadata": {},
   "source": [
    "Four candidates are running for President of Dataland. A polling company surveys 1000 people selected uniformly at random from among voters in Dataland, and it asks each one who they are planning on voting for. After compiling the results, the polling company releases the following proportions from their sample:\n",
    "\n",
    "|Candidate  | Proportion|\n",
    "|:------------:|:------------:|\n",
    "|Candidate C | 0.47 |\n",
    "|Candidate T | 0.38 |\n",
    "|Candidate J | 0.08 |\n",
    "|Candidate S | 0.03 |\n",
    "|Undecided   | 0.04 |\n",
    "\n",
    "These proportions represent a uniform random sample of the population of Dataland. We will attempt to estimate the corresponding *population parameters*, or the proportion of the votes that each candidate received from the entire population.  We will use confidence intervals to compute a range of values that reflects the uncertainty of our estimate.\n",
    "\n",
    "The table `votes` contains the results of the survey. Candidates are represented by their initials. Undecided voters are denoted by `U`."
   ]
  },
  {
   "cell_type": "code",
   "execution_count": 9,
   "metadata": {},
   "outputs": [
    {
     "name": "stdout",
     "output_type": "stream",
     "text": [
      "1000\n"
     ]
    },
    {
     "data": {
      "text/html": [
       "<table border=\"1\" class=\"dataframe\">\n",
       "    <thead>\n",
       "        <tr>\n",
       "            <th>vote</th>\n",
       "        </tr>\n",
       "    </thead>\n",
       "    <tbody>\n",
       "        <tr>\n",
       "            <td>C   </td>\n",
       "        </tr>\n",
       "        <tr>\n",
       "            <td>C   </td>\n",
       "        </tr>\n",
       "        <tr>\n",
       "            <td>C   </td>\n",
       "        </tr>\n",
       "        <tr>\n",
       "            <td>C   </td>\n",
       "        </tr>\n",
       "        <tr>\n",
       "            <td>C   </td>\n",
       "        </tr>\n",
       "        <tr>\n",
       "            <td>C   </td>\n",
       "        </tr>\n",
       "        <tr>\n",
       "            <td>C   </td>\n",
       "        </tr>\n",
       "        <tr>\n",
       "            <td>C   </td>\n",
       "        </tr>\n",
       "        <tr>\n",
       "            <td>C   </td>\n",
       "        </tr>\n",
       "        <tr>\n",
       "            <td>C   </td>\n",
       "        </tr>\n",
       "    </tbody>\n",
       "</table>\n",
       "<p>... (990 rows omitted)</p>"
      ],
      "text/plain": [
       "vote\n",
       "C\n",
       "C\n",
       "C\n",
       "C\n",
       "C\n",
       "C\n",
       "C\n",
       "C\n",
       "C\n",
       "C\n",
       "... (990 rows omitted)"
      ]
     },
     "execution_count": 9,
     "metadata": {},
     "output_type": "execute_result"
    }
   ],
   "source": [
    "votes = Table().with_column('vote', np.array(['C']*470 + ['T']*380 + ['J']*80 + ['S']*30 + ['U']*40))\n",
    "num_votes = votes.num_rows\n",
    "print(num_votes)\n",
    "votes"
   ]
  },
  {
   "cell_type": "markdown",
   "metadata": {},
   "source": [
    "______________"
   ]
  },
  {
   "cell_type": "markdown",
   "metadata": {},
   "source": [
    "**Question 8.** Below, complete the given  code that will use bootstrapped samples from `votes` to compute estimates of the true proportion of voters who are planning on voting for **Candidate C**. Make sure that you understand what's going on here."
   ]
  },
  {
   "cell_type": "code",
   "execution_count": 10,
   "metadata": {},
   "outputs": [],
   "source": [
    "def proportions_in_resamples():\n",
    "    prop_c = make_array()\n",
    "    for i in np.arange(5000):\n",
    "        bootstrap = votes.sample()\n",
    "        single_proportion = np.count_nonzero(bootstrap.column(0) == 'C') / len(bootstrap.column(0))\n",
    "        prop_c = np.append(prop_c, single_proportion)\n",
    "    return prop_c"
   ]
  },
  {
   "cell_type": "markdown",
   "metadata": {},
   "source": [
    "In the following cell, we run the function you just defined, `proportions_in_resamples`, and create a histogram of the calculated statistic for the 5,000 bootstraps. Make sure that it seems reasonable"
   ]
  },
  {
   "cell_type": "code",
   "execution_count": 11,
   "metadata": {},
   "outputs": [
    {
     "name": "stdout",
     "output_type": "stream",
     "text": [
      "[0.473 0.445 0.467 ... 0.455 0.47  0.473]\n"
     ]
    },
    {
     "data": {
      "image/png": "[encoded data removed]",
      "text/plain": [
       "<Figure size 432x288 with 1 Axes>"
      ]
     },
     "metadata": {},
     "output_type": "display_data"
    }
   ],
   "source": [
    "sampled_proportions = proportions_in_resamples()\n",
    "print(sampled_proportions)\n",
    "Table().with_column('Estimated Proportion', sampled_proportions).hist(bins=np.arange(0.2,0.6,0.01))"
   ]
  },
  {
   "cell_type": "markdown",
   "metadata": {},
   "source": [
    "______________"
   ]
  },
  {
   "cell_type": "markdown",
   "metadata": {},
   "source": [
    "**Question 9.** Using the array `sampled_proportions`, find 95% confidence interval. (Compute the lower and upper ends of the interval, named `c_lower_bound` and `c_upper_bound`, respectively.)"
   ]
  },
  {
   "cell_type": "code",
   "execution_count": 12,
   "metadata": {},
   "outputs": [
    {
     "name": "stdout",
     "output_type": "stream",
     "text": [
      "Bootstrapped 95% confidence interval for the proportion of C voters in the population: [0.438000, 0.501000]\n"
     ]
    }
   ],
   "source": [
    "c_lower_bound = percentile(2.5,sampled_proportions)\n",
    "c_upper_bound = percentile(97.5,sampled_proportions)\n",
    "print(\"Bootstrapped 95% confidence interval for the proportion of C voters in the population: [{:f}, {:f}]\".format(c_lower_bound, c_upper_bound))"
   ]
  },
  {
   "cell_type": "markdown",
   "metadata": {},
   "source": [
    "________"
   ]
  },
  {
   "cell_type": "markdown",
   "metadata": {},
   "source": [
    "**Question 10.** The survey results seem to indicate that Candidate C is beating Candidate T among voters. We would like to use CI's to determine a range of likely values for her true *lead*. Candidate C's lead over Candidate T is:\n",
    "\n",
    "$$\\text{Candidate C's proportion of the vote} - \\text{Candidate T's proportion of the vote}.$$\n",
    "\n",
    "Using the function `proportions_in_resamples` above as a model, use the bootstrap to compute an approximate distribution for Candidate C's lead over Candidate T. Plot a histogram of the the resulting samples. Finally calculate 80% confidence interval."
   ]
  },
  {
   "cell_type": "code",
   "execution_count": 13,
   "metadata": {},
   "outputs": [
    {
     "data": {
      "image/png": "[encoded data removed]",
      "text/plain": [
       "<Figure size 432x288 with 1 Axes>"
      ]
     },
     "metadata": {},
     "output_type": "display_data"
    }
   ],
   "source": [
    "def leads_in_resamples():\n",
    "    leads = make_array()\n",
    "    for i in np.arange(5000):\n",
    "        bootstrap = votes.sample()\n",
    "        single_lead = (np.count_nonzero(bootstrap.column(0) == 'C') - np.count_nonzero(bootstrap.column(0) == 'T'))/len(bootstrap.column(0))\n",
    "        leads = np.append(leads, single_lead)    \n",
    "    return leads\n",
    "\n",
    "sampled_leads = leads_in_resamples()\n",
    "Table().with_column(\"Estimated Leads\",sampled_leads).hist(bins = np.arange(-0.2,0.2,0.01))"
   ]
  },
  {
   "cell_type": "code",
   "execution_count": 14,
   "metadata": {},
   "outputs": [
    {
     "name": "stdout",
     "output_type": "stream",
     "text": [
      "Bootstrapped 80% confidence interval for Candidate C's true lead over Candidate T: [0.052000, 0.127000]\n"
     ]
    }
   ],
   "source": [
    "diff_lower_bound = percentile(10.0,sampled_leads)\n",
    "diff_upper_bound = percentile(90.0,sampled_leads)\n",
    "print(\"Bootstrapped 80% confidence interval for Candidate C's true lead over Candidate T: [{:f}, {:f}]\".format(diff_lower_bound, diff_upper_bound))"
   ]
  }
 ],
 "metadata": {
  "kernelspec": {
   "display_name": "Python 3",
   "language": "python",
   "name": "python3"
  },
  "language_info": {
   "codemirror_mode": {
    "name": "ipython",
    "version": 3
   },
   "file_extension": ".py",
   "mimetype": "text/x-python",
   "name": "python",
   "nbconvert_exporter": "python",
   "pygments_lexer": "ipython3",
   "version": "3.6.0"
  }
 },
 "nbformat": 4,
 "nbformat_minor": 2
}
